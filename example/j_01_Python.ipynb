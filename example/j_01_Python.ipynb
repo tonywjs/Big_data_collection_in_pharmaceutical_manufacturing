{
 "cells": [
  {
   "cell_type": "markdown",
   "id": "f0db2282",
   "metadata": {},
   "source": [
    "# 파이썬 기초"
   ]
  },
  {
   "cell_type": "markdown",
   "id": "afecd79e",
   "metadata": {},
   "source": [
    "# Jupyter Notebook\n",
    "\n",
    "- 개인 PC를 사용하는 경우  \n",
    "  - PC에 아나콘다 설치\n",
    "  - jupyter notebook 실행\n",
    "- 구글 클라우드 colab 사용  \n",
    "  - colab.research.google.com 접속\n",
    "  - 구글 계정에 가입해야 한다, 크롬 브라우저 사용\n",
    "  - 스마트폰에서도 colab 사용 가능\n",
    "- 예제는 github.com에서 다운로드 한다  \n",
    "  - github.com 계정 가입 필요"
   ]
  },
  {
   "cell_type": "markdown",
   "id": "e6576640",
   "metadata": {},
   "source": [
    "# 기본 변수\n",
    "## 숫자, 문자열, 불리언\n",
    "\n",
    "- 숫자에는 정수(int)와 부동소수(float)가 있다\n",
    "- 불리언 변수가 연산에 사용되면 True는 1로, False는 0으로 자동으로 변환된다"
   ]
  },
  {
   "cell_type": "code",
   "execution_count": 14,
   "id": "ceea3283",
   "metadata": {},
   "outputs": [
    {
     "name": "stdout",
     "output_type": "stream",
     "text": [
      "False\n",
      "True\n"
     ]
    }
   ],
   "source": [
    "## 논리형 연산 결과는 논리형 값이다\n",
    "\n",
    "a = True\n",
    "b = False\n",
    "print(a & b) # False\n",
    "print(a | b) # True"
   ]
  },
  {
   "cell_type": "code",
   "execution_count": 17,
   "id": "3dc997d9",
   "metadata": {},
   "outputs": [
    {
     "name": "stdout",
     "output_type": "stream",
     "text": [
      "1\n",
      "4\n",
      "10\n"
     ]
    }
   ],
   "source": [
    "print(a+b)\n",
    "print(a+3)\n",
    "print(a*10)"
   ]
  },
  {
   "cell_type": "markdown",
   "id": "1934ee82",
   "metadata": {},
   "source": [
    "### Q1. AI에게 제곱, 나누기, 나머지 값 계산코드 작성을 요청해보세요.\n",
    "1. ctrl + k ( MAC은 cmd + k )\n",
    "2. 프롬프트 작성 후 엔터"
   ]
  },
  {
   "cell_type": "code",
   "execution_count": null,
   "id": "cf669f40",
   "metadata": {},
   "outputs": [],
   "source": []
  },
  {
   "cell_type": "markdown",
   "id": "b49adaf8",
   "metadata": {
    "colab_type": "text",
    "id": "SR1EuTvjfMp7"
   },
   "source": [
    "# 묶음 데이터 \n",
    " - 숫자, 문자, 불리언 등 단변수들을 여러개 묶어 처리하는 방법\n",
    " - 리스트(list), 튜플(tuple), 사전(dictionary)"
   ]
  },
  {
   "cell_type": "markdown",
   "id": "5c04cea5",
   "metadata": {
    "colab_type": "text",
    "id": "SR1EuTvjfMp7"
   },
   "source": [
    "## 리스트\n",
    " - 파이썬에서 가장 널리 사용되는 데이터 조작용 \"통\"\n",
    " - 리스트를 구성하는 각 항목의 데이터 타입은 서로 달라도 된다\n",
    " - 리스트 항목으로 이미지나, 파일 전체를 담을 수도 있다"
   ]
  },
  {
   "cell_type": "markdown",
   "id": "e88851d4",
   "metadata": {},
   "source": [
    "### 리스트 복제\n",
    "- 리스트 전체를 반복 복제 하려면 \"*\"를 사용한다\n",
    "- 리스트를 합치려면 \"+\"를 사용한다"
   ]
  },
  {
   "cell_type": "markdown",
   "id": "6dc16842",
   "metadata": {},
   "source": [
    "### 항목 추가 : append()"
   ]
  },
  {
   "cell_type": "code",
   "execution_count": 11,
   "id": "2fdb6f52",
   "metadata": {},
   "outputs": [
    {
     "data": {
      "text/plain": [
       "[0, 0, 0, 0, 0, 1, 1, 1, 1, 1]"
      ]
     },
     "execution_count": 11,
     "metadata": {},
     "output_type": "execute_result"
    }
   ],
   "source": [
    "## 리스트 복제 및 더하기\n",
    "\n",
    "a = [0] # 항목이 0 하나인 리스트\n",
    "b = [1] # 항목이 1 하나인 리스트\n",
    "z = a*5 + b*5\n",
    "z"
   ]
  },
  {
   "cell_type": "code",
   "execution_count": 12,
   "id": "f15c2cc2",
   "metadata": {},
   "outputs": [
    {
     "data": {
      "text/plain": [
       "[0, 0, 0, 0, 0, 1, 1, 1, 1, 1, 5]"
      ]
     },
     "execution_count": 12,
     "metadata": {},
     "output_type": "execute_result"
    }
   ],
   "source": [
    "z.append(5)\n",
    "z"
   ]
  },
  {
   "cell_type": "markdown",
   "id": "8257e1de",
   "metadata": {},
   "source": [
    "## range\n",
    "\n",
    "- 일정한 범위의 값들을 나타내는 특수 변수"
   ]
  },
  {
   "cell_type": "code",
   "execution_count": 22,
   "id": "6bc782f4",
   "metadata": {},
   "outputs": [
    {
     "name": "stdout",
     "output_type": "stream",
     "text": [
      "range(0, 10)\n",
      "[0, 1, 2, 3, 4, 5, 6, 7, 8, 9]\n",
      "range(2, 20, 3)\n",
      "[2, 5, 8, 11, 14, 17]\n"
     ]
    }
   ],
   "source": [
    "## 특수 변수 range와 내용 보기\n",
    "\n",
    "x = range(10)\n",
    "print(x)\n",
    "print(list(x))\n",
    "\n",
    "y = range(2,20,3)\n",
    "print(y)\n",
    "print(list(y))"
   ]
  },
  {
   "cell_type": "code",
   "execution_count": 32,
   "id": "b3fc3e51",
   "metadata": {},
   "outputs": [
    {
     "name": "stdout",
     "output_type": "stream",
     "text": [
      "10\n",
      "20\n",
      "30\n",
      "40\n",
      "50\n"
     ]
    }
   ],
   "source": [
    "## 1~5 사이의 정수에 10을 곱하기\n",
    "\n",
    "for i in range(1,6):\n",
    "    print(i*10)"
   ]
  },
  {
   "cell_type": "markdown",
   "id": "aa6d075f",
   "metadata": {},
   "source": [
    "### Q2. AI에게 아래 코드의 설명을 요청하세요.\n",
    "1. 코드전체를 선택\n",
    "2. ctrl + i ( MAC은 cmd + i )\n",
    "3. 프롬프트 작성 후 엔터"
   ]
  },
  {
   "cell_type": "code",
   "execution_count": null,
   "id": "3f8ba192",
   "metadata": {},
   "outputs": [],
   "source": [
    "tuple1 = (1, 2, 3, 4, 5)\n",
    "tuple2 = ('apple', 'banana', 'cherry')\n",
    "print(f\"tuple1: {tuple1}\")\n",
    "print(f\"tuple1[0]: {tuple1[0]}\")\n",
    "print(f\"tuple2[1:3]: {tuple2[1:3]}\")\n",
    "\n",
    "dict1 = {'name': '홍길동', 'age': 25, 'city': '서울'}\n",
    "print(f\"dict1: {dict1}\")\n",
    "print(f\"이름: {dict1['name']}\")\n",
    "dict1['email'] = 'hong@email.com'\n",
    "print(f\"수정된 dict1: {dict1}\")\n",
    "print(f\"키 목록: {list(dict1.keys())}\")\n",
    "\n",
    "set1 = {1, 2, 3, 4, 5}\n",
    "set2 = {3, 4, 5, 6, 7}\n",
    "print(f\"set1: {set1}\")\n",
    "print(f\"set2: {set2}\")\n",
    "print(f\"합집합: {set1 | set2}\")\n",
    "print(f\"교집합: {set1 & set2}\")\n",
    "set1.add(6)\n",
    "print(f\"6 추가 후 set1: {set1}\")\n"
   ]
  },
  {
   "cell_type": "markdown",
   "id": "61dcd73a",
   "metadata": {},
   "source": [
    "### 리스트 내에서 for 사용하기"
   ]
  },
  {
   "cell_type": "code",
   "execution_count": 33,
   "id": "2a961ea2",
   "metadata": {},
   "outputs": [
    {
     "name": "stdout",
     "output_type": "stream",
     "text": [
      "[10, 20, 30, 40, 50]\n"
     ]
    }
   ],
   "source": [
    "## 리스트 선언문 내에서 for를 사용하는 방법\n",
    "\n",
    "z = [i*10 for i in range(1,6)]\n",
    "print(z)"
   ]
  },
  {
   "cell_type": "code",
   "execution_count": 18,
   "id": "f0c8db44",
   "metadata": {},
   "outputs": [
    {
     "name": "stdout",
     "output_type": "stream",
     "text": [
      "['cat001', 'cat002']\n"
     ]
    }
   ],
   "source": [
    "## 특정 문자열이 포함된 항목을 찾아서 리스트를 만들기\n",
    "\n",
    "files = ['cat001', 'cat002', 'dog003', 'dog004']\n",
    "key = 'cat'\n",
    "new_list = [s for s in files if key in s]\n",
    "print(new_list)"
   ]
  },
  {
   "cell_type": "markdown",
   "id": "c92aafab",
   "metadata": {},
   "source": [
    "### Q3. AI에게 전체 파일의 더 쉬운 설명을 요청해보세요.\n",
    "1. ctrl + i ( MAC은 cmd + i )\n",
    "2. \"현재 파일을 읽고 쉽게 설명해줘\" 라고 작성 후 엔터"
   ]
  }
 ],
 "metadata": {
  "kernelspec": {
   "display_name": "AI_study",
   "language": "python",
   "name": "python3"
  },
  "language_info": {
   "codemirror_mode": {
    "name": "ipython",
    "version": 3
   },
   "file_extension": ".py",
   "mimetype": "text/x-python",
   "name": "python",
   "nbconvert_exporter": "python",
   "pygments_lexer": "ipython3",
   "version": "3.10.14"
  },
  "toc": {
   "base_numbering": 1,
   "nav_menu": {},
   "number_sections": false,
   "sideBar": true,
   "skip_h1_title": false,
   "title_cell": "Table of Contents",
   "title_sidebar": "Contents",
   "toc_cell": false,
   "toc_position": {
    "height": "calc(100% - 180px)",
    "left": "10px",
    "top": "150px",
    "width": "165px"
   },
   "toc_section_display": true,
   "toc_window_display": true
  }
 },
 "nbformat": 4,
 "nbformat_minor": 5
}
